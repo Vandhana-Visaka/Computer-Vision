{
 "cells": [
  {
   "cell_type": "code",
   "execution_count": 1,
   "metadata": {},
   "outputs": [],
   "source": [
    "from sklearn import metrics\n",
    "from sklearn.datasets import load_digits\n",
    "from sklearn.model_selection import train_test_split\n",
    "from sklearn.neighbors import KNeighborsClassifier\n",
    "from sklearn.linear_model import SGDClassifier\n",
    "from sklearn.tree import DecisionTreeClassifier"
   ]
  },
  {
   "cell_type": "code",
   "execution_count": 2,
   "metadata": {},
   "outputs": [],
   "source": [
    "import numpy as np\n",
    "from matplotlib import pyplot as plt\n",
    "%matplotlib inline"
   ]
  },
  {
   "cell_type": "code",
   "execution_count": 3,
   "metadata": {},
   "outputs": [],
   "source": [
    "#load digits using function provided in specs\n",
    "digits = load_digits()"
   ]
  },
  {
   "cell_type": "raw",
   "metadata": {},
   "source": [
    "Display the digits to get an idea of data samples"
   ]
  },
  {
   "cell_type": "code",
   "execution_count": 5,
   "metadata": {},
   "outputs": [
    {
     "data": {
      "text/plain": [
       "Text(0.5,1,'Label: 0\\n')"
      ]
     },
     "execution_count": 5,
     "metadata": {},
     "output_type": "execute_result"
    },
    {
     "data": {
      "image/png": "[encoded data removed]",
      "text/plain": [
       "<Figure size 432x288 with 1 Axes>"
      ]
     },
     "metadata": {
      "needs_background": "light"
     },
     "output_type": "display_data"
    }
   ],
   "source": [
    "plt.imshow(np.reshape(digits.data[0], (8, 8)), cmap='gray')\n",
    "plt.title('Label: %i\\n' % digits.target[0], fontsize=25)"
   ]
  },
  {
   "cell_type": "code",
   "execution_count": 6,
   "metadata": {},
   "outputs": [
    {
     "data": {
      "text/plain": [
       "Text(0.5,1,'Label: 1\\n')"
      ]
     },
     "execution_count": 6,
     "metadata": {},
     "output_type": "execute_result"
    },
    {
     "data": {
      "image/png": "[encoded data removed]",
      "text/plain": [
       "<Figure size 432x288 with 1 Axes>"
      ]
     },
     "metadata": {
      "needs_background": "light"
     },
     "output_type": "display_data"
    }
   ],
   "source": [
    "plt.imshow(np.reshape(digits.data[1], (8, 8)), cmap='gray')\n",
    "plt.title('Label: 1\\n' % digits.target[0], fontsize=25)"
   ]
  },
  {
   "cell_type": "code",
   "execution_count": 7,
   "metadata": {},
   "outputs": [
    {
     "data": {
      "text/plain": [
       "Text(0.5,1,'Label: 2\\n')"
      ]
     },
     "execution_count": 7,
     "metadata": {},
     "output_type": "execute_result"
    },
    {
     "data": {
      "image/png": "[encoded data removed]",
      "text/plain": [
       "<Figure size 432x288 with 1 Axes>"
      ]
     },
     "metadata": {
      "needs_background": "light"
     },
     "output_type": "display_data"
    }
   ],
   "source": [
    "plt.imshow(np.reshape(digits.data[2], (8, 8)), cmap='gray')\n",
    "plt.title('Label: 2\\n' % digits.target[0], fontsize=25)"
   ]
  },
  {
   "cell_type": "code",
   "execution_count": 8,
   "metadata": {},
   "outputs": [
    {
     "data": {
      "text/plain": [
       "Text(0.5,1,'Label: 3\\n')"
      ]
     },
     "execution_count": 8,
     "metadata": {},
     "output_type": "execute_result"
    },
    {
     "data": {
      "image/png": "[encoded data removed]",
      "text/plain": [
       "<Figure size 432x288 with 1 Axes>"
      ]
     },
     "metadata": {
      "needs_background": "light"
     },
     "output_type": "display_data"
    }
   ],
   "source": [
    "plt.imshow(np.reshape(digits.data[3], (8, 8)), cmap='gray')\n",
    "plt.title('Label: 3\\n' % digits.target[0], fontsize=25)"
   ]
  },
  {
   "cell_type": "raw",
   "metadata": {},
   "source": [
    "Data Splitting"
   ]
  },
  {
   "cell_type": "code",
   "execution_count": 4,
   "metadata": {},
   "outputs": [],
   "source": [
    "#Split the images using sklearn’s train_test_split()\n",
    "#with a test size anywhere\n",
    "#between 20% and 30% (inclusive) \n",
    "#Quick utility that wraps input validation and\n",
    "#``next(ShuffleSplit().split(X, y))`` and application to input data\n",
    "#into a single call for splitting (and optionally subsampling) data in a\n",
    "#oneliner.\n",
    "x_train, x_test, y_train, y_test = train_test_split(digits.data, digits.target, random_state=6)"
   ]
  },
  {
   "cell_type": "code",
   "execution_count": 18,
   "metadata": {},
   "outputs": [
    {
     "data": {
      "text/plain": [
       "(64,)"
      ]
     },
     "execution_count": 18,
     "metadata": {},
     "output_type": "execute_result"
    }
   ],
   "source": [
    "x_train[0].shape"
   ]
  },
  {
   "cell_type": "code",
   "execution_count": null,
   "metadata": {},
   "outputs": [],
   "source": []
  },
  {
   "cell_type": "code",
   "execution_count": 11,
   "metadata": {},
   "outputs": [
    {
     "data": {
      "text/plain": [
       "450"
      ]
     },
     "execution_count": 11,
     "metadata": {},
     "output_type": "execute_result"
    }
   ],
   "source": [
    "len(x_test)"
   ]
  },
  {
   "cell_type": "code",
   "execution_count": 12,
   "metadata": {},
   "outputs": [
    {
     "data": {
      "text/plain": [
       "1347"
      ]
     },
     "execution_count": 12,
     "metadata": {},
     "output_type": "execute_result"
    }
   ],
   "source": [
    "len(y_train)"
   ]
  },
  {
   "cell_type": "code",
   "execution_count": 13,
   "metadata": {},
   "outputs": [
    {
     "data": {
      "text/plain": [
       "450"
      ]
     },
     "execution_count": 13,
     "metadata": {},
     "output_type": "execute_result"
    }
   ],
   "source": [
    "len(y_test)"
   ]
  },
  {
   "cell_type": "raw",
   "metadata": {},
   "source": [
    "Function Models takes in four parameters - training and testin data"
   ]
  },
  {
   "cell_type": "code",
   "execution_count": 14,
   "metadata": {},
   "outputs": [],
   "source": [
    "def Models(x_train,x_test,y_train,y_test):\n",
    "    #models 1,2,3 are defined wrt to classifiers mentioned in the specification\n",
    "    model_1 = KNeighborsClassifier(n_neighbors=5)\n",
    "    model_2 = SGDClassifier()\n",
    "    model_3 = DecisionTreeClassifier(criterion=\"entropy\")\n",
    "    model_1.fit(x_train,y_train)\n",
    "    \n",
    "    #Calculating Test Size using no of testing data and training data available\n",
    "    test_size=x_test.shape[0]/(x_train.shape[0] + x_test.shape[0])\n",
    "    print(f'Test Size : {test_size:0.2f}.\\n')\n",
    "    \n",
    "    ##################### KNN CLASSIFIER   ###############################\n",
    "    \n",
    "    knn_y_predict=model_1.predict(x_test)\n",
    "    # accuracy score - KNN\n",
    "    knn_accuracy_score=metrics.accuracy_score(y_test, knn_y_predict)\n",
    "    # recall score - KNN\n",
    "    knn_recall_score=metrics.recall_score(y_test, knn_y_predict, average='macro')\n",
    "    print(f'KNN Accuracy:{knn_accuracy_score:0.3f}  KNN Recall: {knn_recall_score:0.3f}.\\n')\n",
    "    \n",
    "    ###################### SGD CLASSIFIER  ##############################\n",
    "    \n",
    "    model_2.fit(x_train,y_train)\n",
    "    sgd_y_predict=model_2.predict(x_test)\n",
    "    # accuracy score - SGD\n",
    "    sgd_accuracy_score=metrics.accuracy_score(y_test, sgd_y_predict)\n",
    "    # recall score\n",
    "    sgd_recall_score=metrics.recall_score(y_test, sgd_y_predict, average='macro')\n",
    "    print(f'SGD Accuracy:{sgd_accuracy_score:0.3f}  SGD Recall: {sgd_recall_score:0.3f}.\\n')\n",
    "    \n",
    "    ##########################    DECISION TREE  ##########################\n",
    "    \n",
    "    model_3.fit(x_train,y_train)\n",
    "    DT_y_predict=model_3.predict(x_test)\n",
    "    # accuracy score - DT\n",
    "    DT_accuracy_score=metrics.accuracy_score(y_test, DT_y_predict)\n",
    "    # recall score\n",
    "    DT_recall_score=metrics.recall_score(y_test, DT_y_predict, average='macro')\n",
    "    print(f'Decision Tree Accuracy:{DT_accuracy_score:0.3f}  Decision Tree Recall: {DT_recall_score:0.3f}.\\n')\n",
    "    \n",
    "    \n",
    "    # confusion matrix for KNN - best performing\n",
    "    confusion_matrix=metrics.confusion_matrix(y_test, knn_y_predict)\n",
    "    print(confusion_matrix)"
   ]
  },
  {
   "cell_type": "code",
   "execution_count": 15,
   "metadata": {},
   "outputs": [
    {
     "name": "stdout",
     "output_type": "stream",
     "text": [
      "COM9517 Week 5 Lab - z5222191\n",
      "\n",
      "Test Size : 0.25.\n",
      "\n",
      "KNN Accuracy:0.989  KNN Recall: 0.986.\n",
      "\n",
      "SGD Accuracy:0.942  SGD Recall: 0.938.\n",
      "\n",
      "Decision Tree Accuracy:0.844  Decision Tree Recall: 0.841.\n",
      "\n",
      "[[52  0  0  0  0  0  0  0  0  0]\n",
      " [ 0 42  0  0  0  0  0  0  0  0]\n",
      " [ 0  0 51  0  0  0  0  0  0  0]\n",
      " [ 0  0  0 40  0  0  0  0  0  0]\n",
      " [ 0  0  0  0 51  0  0  0  0  0]\n",
      " [ 0  0  0  0  0 51  0  0  0  0]\n",
      " [ 0  1  0  0  0  0 44  0  0  0]\n",
      " [ 0  0  0  0  0  0  0 44  0  0]\n",
      " [ 0  0  0  0  0  0  0  0 39  0]\n",
      " [ 0  1  0  2  0  1  0  0  0 31]]\n"
     ]
    }
   ],
   "source": [
    "print('COM9517 Week 5 Lab - z5222191\\n')\n",
    "Models(x_train,x_test,y_train,y_test)"
   ]
  }
 ],
 "metadata": {
  "kernelspec": {
   "display_name": "Python 3",
   "language": "python",
   "name": "python3"
  },
  "language_info": {
   "codemirror_mode": {
    "name": "ipython",
    "version": 3
   },
   "file_extension": ".py",
   "mimetype": "text/x-python",
   "name": "python",
   "nbconvert_exporter": "python",
   "pygments_lexer": "ipython3",
   "version": "3.7.6"
  }
 },
 "nbformat": 4,
 "nbformat_minor": 4
}
