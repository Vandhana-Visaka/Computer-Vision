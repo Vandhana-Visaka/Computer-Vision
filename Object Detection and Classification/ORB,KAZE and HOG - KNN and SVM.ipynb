{
 "cells": [
  {
   "cell_type": "code",
   "execution_count": null,
   "metadata": {},
   "outputs": [],
   "source": [
    "#Written by z5222191 for COMP9517 Assignment 2"
   ]
  },
  {
   "cell_type": "code",
   "execution_count": 1,
   "metadata": {},
   "outputs": [],
   "source": [
    "import os\n",
    "import cv2\n",
    "import numpy as np\n",
    "import pandas as pd\n",
    "from pathlib import Path\n",
    "from matplotlib import pyplot as plt\n",
    "%matplotlib inline"
   ]
  },
  {
   "cell_type": "code",
   "execution_count": 2,
   "metadata": {},
   "outputs": [],
   "source": [
    "from skimage.transform import resize\n",
    "from skimage.feature import hog\n",
    "from skimage import exposure"
   ]
  },
  {
   "cell_type": "code",
   "execution_count": 3,
   "metadata": {},
   "outputs": [],
   "source": [
    "from sklearn import metrics\n",
    "from sklearn.utils import shuffle\n",
    "from sklearn.datasets import load_digits\n",
    "from sklearn.model_selection import train_test_split\n",
    "from sklearn.neighbors import KNeighborsClassifier\n",
    "from sklearn.tree import DecisionTreeClassifier"
   ]
  },
  {
   "cell_type": "code",
   "execution_count": 4,
   "metadata": {},
   "outputs": [],
   "source": [
    "train_positive = []\n",
    "#Reading all the images from train_positive_A\n",
    "for i in range(8):\n",
    "    path_name = 'train/train_positive_A/0000000' + str(i)\n",
    "    #print(path_name)\n",
    "    entries = Path(path_name)\n",
    "    for entry in sorted(entries.iterdir()):\n",
    "        img = cv2.imread(str(entry))\n",
    "        train_positive.append(img)"
   ]
  },
  {
   "cell_type": "code",
   "execution_count": 5,
   "metadata": {},
   "outputs": [],
   "source": [
    "#Reading all the images from train_positive_B\n",
    "for i in range(7):\n",
    "    path_name = 'train/train_positive_B/0000000' + str(i)\n",
    "    #print(path_name)\n",
    "    entries = Path(path_name)\n",
    "    for entry in sorted(entries.iterdir()):\n",
    "        img = cv2.imread(str(entry))\n",
    "        train_positive.append(img)"
   ]
  },
  {
   "cell_type": "code",
   "execution_count": 6,
   "metadata": {},
   "outputs": [],
   "source": [
    "#Reading all the images from train_positive_C\n",
    "for i in range(8):\n",
    "    path_name = 'train/train_positive_C/0000000' + str(i)\n",
    "    #print(path_name)\n",
    "    entries = Path(path_name)\n",
    "    for entry in sorted(entries.iterdir()):\n",
    "        img = cv2.imread(str(entry))\n",
    "        train_positive.append(img)"
   ]
  },
  {
   "cell_type": "code",
   "execution_count": 7,
   "metadata": {},
   "outputs": [
    {
     "data": {
      "text/plain": [
       "22114"
      ]
     },
     "execution_count": 7,
     "metadata": {},
     "output_type": "execute_result"
    }
   ],
   "source": [
    "len(train_positive)"
   ]
  },
  {
   "cell_type": "code",
   "execution_count": 8,
   "metadata": {},
   "outputs": [],
   "source": [
    "#Similarly we create a list called train_negative\n",
    "train_negative = []\n",
    "for i in range(10):\n",
    "    path_name = 'train/train_negative_A/0000000' + str(i)\n",
    "    #print(path_name)\n",
    "    entries = Path(path_name)\n",
    "    for entry in sorted(entries.iterdir()):\n",
    "        img = cv2.imread(str(entry))\n",
    "        train_negative.append(img)"
   ]
  },
  {
   "cell_type": "code",
   "execution_count": 9,
   "metadata": {},
   "outputs": [
    {
     "data": {
      "text/plain": [
       "10000"
      ]
     },
     "execution_count": 9,
     "metadata": {},
     "output_type": "execute_result"
    }
   ],
   "source": [
    "len(train_negative)"
   ]
  },
  {
   "cell_type": "code",
   "execution_count": 10,
   "metadata": {},
   "outputs": [],
   "source": [
    "#Getting equal slices of positive and negative trainig data\n",
    "positive_batch = train_positive[:5000]\n",
    "negative_batch = train_negative[:5000]"
   ]
  },
  {
   "cell_type": "code",
   "execution_count": 11,
   "metadata": {},
   "outputs": [],
   "source": [
    "positive_labels = [1] * 5000\n",
    "negative_labels = [0] * 5000"
   ]
  },
  {
   "cell_type": "code",
   "execution_count": 12,
   "metadata": {},
   "outputs": [
    {
     "data": {
      "text/plain": [
       "(80, 64, 3)"
      ]
     },
     "execution_count": 12,
     "metadata": {},
     "output_type": "execute_result"
    }
   ],
   "source": [
    "image_shape = positive_batch[0].shape\n",
    "image_shape"
   ]
  },
  {
   "cell_type": "code",
   "execution_count": 13,
   "metadata": {},
   "outputs": [],
   "source": [
    "#Flattening images to store in dataframe\n",
    "for i in range(5000):\n",
    "    positive_batch[i] = positive_batch[i].flatten()\n",
    "    negative_batch[i] = negative_batch[i].flatten()"
   ]
  },
  {
   "cell_type": "code",
   "execution_count": 14,
   "metadata": {},
   "outputs": [],
   "source": [
    "positive = pd.DataFrame(list(zip(positive_batch, positive_labels)), columns =['Image', 'Label']) "
   ]
  },
  {
   "cell_type": "code",
   "execution_count": 15,
   "metadata": {},
   "outputs": [],
   "source": [
    "negative = pd.DataFrame(list(zip(negative_batch, negative_labels)), columns =['Image', 'Label']) "
   ]
  },
  {
   "cell_type": "code",
   "execution_count": 16,
   "metadata": {},
   "outputs": [],
   "source": [
    "#Data is the basic dataframe created with labels of positive and negative labels\n",
    "data = pd.concat([positive, negative], ignore_index=True)"
   ]
  },
  {
   "cell_type": "code",
   "execution_count": 17,
   "metadata": {},
   "outputs": [
    {
     "data": {
      "text/html": [
       "<div>\n",
       "<style scoped>\n",
       "    .dataframe tbody tr th:only-of-type {\n",
       "        vertical-align: middle;\n",
       "    }\n",
       "\n",
       "    .dataframe tbody tr th {\n",
       "        vertical-align: top;\n",
       "    }\n",
       "\n",
       "    .dataframe thead th {\n",
       "        text-align: right;\n",
       "    }\n",
       "</style>\n",
       "<table border=\"1\" class=\"dataframe\">\n",
       "  <thead>\n",
       "    <tr style=\"text-align: right;\">\n",
       "      <th></th>\n",
       "      <th>Image</th>\n",
       "      <th>Label</th>\n",
       "    </tr>\n",
       "  </thead>\n",
       "  <tbody>\n",
       "    <tr>\n",
       "      <td>0</td>\n",
       "      <td>[85, 126, 102, 138, 156, 132, 41, 67, 40, 84, ...</td>\n",
       "      <td>1</td>\n",
       "    </tr>\n",
       "    <tr>\n",
       "      <td>1</td>\n",
       "      <td>[45, 43, 43, 50, 43, 42, 50, 46, 41, 48, 46, 4...</td>\n",
       "      <td>1</td>\n",
       "    </tr>\n",
       "    <tr>\n",
       "      <td>2</td>\n",
       "      <td>[13, 13, 46, 20, 20, 28, 44, 44, 48, 85, 87, 9...</td>\n",
       "      <td>1</td>\n",
       "    </tr>\n",
       "    <tr>\n",
       "      <td>3</td>\n",
       "      <td>[249, 245, 241, 255, 251, 248, 244, 240, 243, ...</td>\n",
       "      <td>1</td>\n",
       "    </tr>\n",
       "    <tr>\n",
       "      <td>4</td>\n",
       "      <td>[31, 38, 22, 31, 32, 20, 30, 33, 24, 29, 33, 2...</td>\n",
       "      <td>1</td>\n",
       "    </tr>\n",
       "    <tr>\n",
       "      <td>...</td>\n",
       "      <td>...</td>\n",
       "      <td>...</td>\n",
       "    </tr>\n",
       "    <tr>\n",
       "      <td>9995</td>\n",
       "      <td>[255, 255, 255, 255, 255, 255, 255, 255, 255, ...</td>\n",
       "      <td>0</td>\n",
       "    </tr>\n",
       "    <tr>\n",
       "      <td>9996</td>\n",
       "      <td>[159, 163, 164, 169, 168, 175, 178, 156, 165, ...</td>\n",
       "      <td>0</td>\n",
       "    </tr>\n",
       "    <tr>\n",
       "      <td>9997</td>\n",
       "      <td>[168, 160, 143, 159, 148, 135, 157, 145, 136, ...</td>\n",
       "      <td>0</td>\n",
       "    </tr>\n",
       "    <tr>\n",
       "      <td>9998</td>\n",
       "      <td>[225, 216, 202, 225, 216, 202, 225, 216, 202, ...</td>\n",
       "      <td>0</td>\n",
       "    </tr>\n",
       "    <tr>\n",
       "      <td>9999</td>\n",
       "      <td>[241, 236, 228, 244, 240, 235, 249, 246, 241, ...</td>\n",
       "      <td>0</td>\n",
       "    </tr>\n",
       "  </tbody>\n",
       "</table>\n",
       "<p>10000 rows × 2 columns</p>\n",
       "</div>"
      ],
      "text/plain": [
       "                                                  Image  Label\n",
       "0     [85, 126, 102, 138, 156, 132, 41, 67, 40, 84, ...      1\n",
       "1     [45, 43, 43, 50, 43, 42, 50, 46, 41, 48, 46, 4...      1\n",
       "2     [13, 13, 46, 20, 20, 28, 44, 44, 48, 85, 87, 9...      1\n",
       "3     [249, 245, 241, 255, 251, 248, 244, 240, 243, ...      1\n",
       "4     [31, 38, 22, 31, 32, 20, 30, 33, 24, 29, 33, 2...      1\n",
       "...                                                 ...    ...\n",
       "9995  [255, 255, 255, 255, 255, 255, 255, 255, 255, ...      0\n",
       "9996  [159, 163, 164, 169, 168, 175, 178, 156, 165, ...      0\n",
       "9997  [168, 160, 143, 159, 148, 135, 157, 145, 136, ...      0\n",
       "9998  [225, 216, 202, 225, 216, 202, 225, 216, 202, ...      0\n",
       "9999  [241, 236, 228, 244, 240, 235, 249, 246, 241, ...      0\n",
       "\n",
       "[10000 rows x 2 columns]"
      ]
     },
     "execution_count": 17,
     "metadata": {},
     "output_type": "execute_result"
    }
   ],
   "source": [
    "data"
   ]
  },
  {
   "cell_type": "raw",
   "metadata": {},
   "source": [
    "Feature Extraction using HOG, ORB, and KAZE"
   ]
  },
  {
   "cell_type": "code",
   "execution_count": 18,
   "metadata": {},
   "outputs": [],
   "source": [
    "hog_features = []\n",
    "for i in range(len(data['Image'])):\n",
    "    temp = data['Image'][i]\n",
    "    #print(temp.shape)\n",
    "    temp = temp.reshape(80,64,3)\n",
    "    #print(temp.shape)\n",
    "    #orientations - 9 and search by 8x8 blocks\n",
    "    feature_matrix, hog_image = hog(temp, orientations=9, pixels_per_cell=(8, 8),cells_per_block=(2, 2), visualize=True, multichannel=True)\n",
    "    #plt.imshow(hog_image)\n",
    "    hog_features.append(feature_matrix)"
   ]
  },
  {
   "cell_type": "code",
   "execution_count": 19,
   "metadata": {},
   "outputs": [
    {
     "name": "stdout",
     "output_type": "stream",
     "text": [
      "10000\n",
      "(2268,)\n"
     ]
    }
   ],
   "source": [
    "print(len(hog_features))\n",
    "print(hog_features[0].shape)"
   ]
  },
  {
   "cell_type": "code",
   "execution_count": 20,
   "metadata": {},
   "outputs": [],
   "source": [
    "#extract orb features and store in list\n",
    "orb_features = []\n",
    "for i in range(len(data['Image'])):\n",
    "    temp = data['Image'][i]\n",
    "    #print(temp.shape)\n",
    "    temp = temp.reshape(80,64,3)\n",
    "    #print(temp.size)\n",
    "    #print(temp.shape)\n",
    "    orb = cv2.ORB_create()\n",
    "    key_points,descriptors = orb.detectAndCompute(temp,None)\n",
    "    #print(descriptors)\n",
    "    #print(descriptors.shape)\n",
    "    if descriptors is not None:\n",
    "        #flatten the array\n",
    "        descriptors = descriptors.flatten()\n",
    "        #print(descriptors.shape)\n",
    "        #check if descriptor array is of minimum size else pad with 0\n",
    "        minimum_size = temp.size//10\n",
    "        if descriptors.size < minimum_size:\n",
    "            descriptors = np.concatenate([descriptors, np.zeros(minimum_size - descriptors.size)])\n",
    "    else:\n",
    "        descriptors = np.zeros(minimum_size)\n",
    "    #print(descriptors.shape)\n",
    "    orb_features.append(descriptors)"
   ]
  },
  {
   "cell_type": "code",
   "execution_count": 21,
   "metadata": {},
   "outputs": [
    {
     "name": "stdout",
     "output_type": "stream",
     "text": [
      "10000\n",
      "(1536,)\n"
     ]
    }
   ],
   "source": [
    "print(len(orb_features))\n",
    "print(orb_features[0].shape)"
   ]
  },
  {
   "cell_type": "code",
   "execution_count": 22,
   "metadata": {},
   "outputs": [],
   "source": [
    "kaze_features = []\n",
    "for i in range(len(data['Image'])):\n",
    "    temp = data['Image'][i]\n",
    "    #print(temp.shape)\n",
    "    temp = temp.reshape(80,64,3)\n",
    "    #print(temp.size)\n",
    "    #print(temp.shape)\n",
    "    kaze = cv2.KAZE_create()\n",
    "    key_points,descriptors = kaze.detectAndCompute(temp,None)\n",
    "    #print(descriptors)\n",
    "    #print(descriptors.shape)\n",
    "    if descriptors is not None:\n",
    "        descriptors = descriptors.flatten()\n",
    "        #print(descriptors.shape)\n",
    "        minimum_size = temp.size//10\n",
    "        #check if descriptor array is of minimum size else pad with 0\n",
    "        if descriptors.size < minimum_size:\n",
    "            descriptors = np.concatenate([descriptors, np.zeros(minimum_size - descriptors.size)])\n",
    "        elif descriptors.size > minimum_size:\n",
    "            descriptors = descriptors[:minimum_size]\n",
    "    else:\n",
    "        descriptors = np.zeros(minimum_size)\n",
    "    #print(descriptors.shape)\n",
    "    kaze_features.append(descriptors)"
   ]
  },
  {
   "cell_type": "code",
   "execution_count": 23,
   "metadata": {},
   "outputs": [
    {
     "name": "stdout",
     "output_type": "stream",
     "text": [
      "10000\n",
      "(1536,)\n"
     ]
    }
   ],
   "source": [
    "print(len(kaze_features))\n",
    "print(kaze_features[0].shape)"
   ]
  },
  {
   "cell_type": "code",
   "execution_count": 24,
   "metadata": {},
   "outputs": [],
   "source": [
    "#Add the features to the dataframe to their respective images and labels\n",
    "data['hog_features'] = hog_features\n",
    "data['orb_features'] = orb_features\n",
    "data['kaze_features'] = kaze_features"
   ]
  },
  {
   "cell_type": "code",
   "execution_count": 25,
   "metadata": {},
   "outputs": [
    {
     "data": {
      "text/html": [
       "<div>\n",
       "<style scoped>\n",
       "    .dataframe tbody tr th:only-of-type {\n",
       "        vertical-align: middle;\n",
       "    }\n",
       "\n",
       "    .dataframe tbody tr th {\n",
       "        vertical-align: top;\n",
       "    }\n",
       "\n",
       "    .dataframe thead th {\n",
       "        text-align: right;\n",
       "    }\n",
       "</style>\n",
       "<table border=\"1\" class=\"dataframe\">\n",
       "  <thead>\n",
       "    <tr style=\"text-align: right;\">\n",
       "      <th></th>\n",
       "      <th>Image</th>\n",
       "      <th>Label</th>\n",
       "      <th>hog_features</th>\n",
       "      <th>orb_features</th>\n",
       "      <th>kaze_features</th>\n",
       "    </tr>\n",
       "  </thead>\n",
       "  <tbody>\n",
       "    <tr>\n",
       "      <td>0</td>\n",
       "      <td>[85, 126, 102, 138, 156, 132, 41, 67, 40, 84, ...</td>\n",
       "      <td>1</td>\n",
       "      <td>[0.26322898426171276, 0.06297035253461403, 0.0...</td>\n",
       "      <td>[116.0, 167.0, 248.0, 230.0, 170.0, 105.0, 87....</td>\n",
       "      <td>[0.029554084, -0.016833646, 0.038285006, 0.046...</td>\n",
       "    </tr>\n",
       "    <tr>\n",
       "      <td>1</td>\n",
       "      <td>[45, 43, 43, 50, 43, 42, 50, 46, 41, 48, 46, 4...</td>\n",
       "      <td>1</td>\n",
       "      <td>[0.35834813063792037, 0.3557791162945998, 0.05...</td>\n",
       "      <td>[0.0, 0.0, 0.0, 0.0, 0.0, 0.0, 0.0, 0.0, 0.0, ...</td>\n",
       "      <td>[-0.01644514873623848, -0.011588056571781635, ...</td>\n",
       "    </tr>\n",
       "    <tr>\n",
       "      <td>2</td>\n",
       "      <td>[13, 13, 46, 20, 20, 28, 44, 44, 48, 85, 87, 9...</td>\n",
       "      <td>1</td>\n",
       "      <td>[0.24073522742786724, 0.3309773255937661, 0.08...</td>\n",
       "      <td>[11.0, 95.0, 98.0, 154.0, 243.0, 180.0, 190.0,...</td>\n",
       "      <td>[-0.116363406, -0.058786247, 0.13851662, 0.090...</td>\n",
       "    </tr>\n",
       "    <tr>\n",
       "      <td>3</td>\n",
       "      <td>[249, 245, 241, 255, 251, 248, 244, 240, 243, ...</td>\n",
       "      <td>1</td>\n",
       "      <td>[0.2327839870331554, 0.2053042475619035, 0.232...</td>\n",
       "      <td>[62.0, 240.0, 104.0, 75.0, 189.0, 212.0, 219.0...</td>\n",
       "      <td>[0.0012870148, 0.0062659215, 0.004209111, 0.00...</td>\n",
       "    </tr>\n",
       "    <tr>\n",
       "      <td>4</td>\n",
       "      <td>[31, 38, 22, 31, 32, 20, 30, 33, 24, 29, 33, 2...</td>\n",
       "      <td>1</td>\n",
       "      <td>[0.2741637707346994, 0.03282843590448066, 0.23...</td>\n",
       "      <td>[0.0, 0.0, 0.0, 0.0, 0.0, 0.0, 0.0, 0.0, 0.0, ...</td>\n",
       "      <td>[-0.16166079, 0.10935857, 0.20557232, 0.116168...</td>\n",
       "    </tr>\n",
       "    <tr>\n",
       "      <td>...</td>\n",
       "      <td>...</td>\n",
       "      <td>...</td>\n",
       "      <td>...</td>\n",
       "      <td>...</td>\n",
       "      <td>...</td>\n",
       "    </tr>\n",
       "    <tr>\n",
       "      <td>9995</td>\n",
       "      <td>[255, 255, 255, 255, 255, 255, 255, 255, 255, ...</td>\n",
       "      <td>0</td>\n",
       "      <td>[0.0, 0.0, 0.0, 0.0, 0.0, 0.0, 0.0, 0.0, 0.0, ...</td>\n",
       "      <td>[0.0, 0.0, 0.0, 0.0, 0.0, 0.0, 0.0, 0.0, 0.0, ...</td>\n",
       "      <td>[0.0, 0.0, 0.0, 0.0, 0.0, 0.0, 0.0, 0.0, 0.0, ...</td>\n",
       "    </tr>\n",
       "    <tr>\n",
       "      <td>9996</td>\n",
       "      <td>[159, 163, 164, 169, 168, 175, 178, 156, 165, ...</td>\n",
       "      <td>0</td>\n",
       "      <td>[0.1410433031960831, 0.23377168500470988, 0.26...</td>\n",
       "      <td>[13.0, 148.0, 77.0, 169.0, 176.0, 46.0, 106.0,...</td>\n",
       "      <td>[-0.08075611, -0.17570443, 0.08633931, 0.18146...</td>\n",
       "    </tr>\n",
       "    <tr>\n",
       "      <td>9997</td>\n",
       "      <td>[168, 160, 143, 159, 148, 135, 157, 145, 136, ...</td>\n",
       "      <td>0</td>\n",
       "      <td>[0.24411617911820588, 0.07405114817817911, 0.0...</td>\n",
       "      <td>[0.0, 0.0, 0.0, 0.0, 0.0, 0.0, 0.0, 0.0, 0.0, ...</td>\n",
       "      <td>[0.0, 0.0, 0.0, 0.0, 0.0, 0.0, 0.0, 0.0, 0.0, ...</td>\n",
       "    </tr>\n",
       "    <tr>\n",
       "      <td>9998</td>\n",
       "      <td>[225, 216, 202, 225, 216, 202, 225, 216, 202, ...</td>\n",
       "      <td>0</td>\n",
       "      <td>[0.06343854330603586, 0.03319965930645292, 0.2...</td>\n",
       "      <td>[0.0, 0.0, 0.0, 0.0, 0.0, 0.0, 0.0, 0.0, 0.0, ...</td>\n",
       "      <td>[0.0, 0.0, 0.0, 0.0, 0.0, 0.0, 0.0, 0.0, 0.0, ...</td>\n",
       "    </tr>\n",
       "    <tr>\n",
       "      <td>9999</td>\n",
       "      <td>[241, 236, 228, 244, 240, 235, 249, 246, 241, ...</td>\n",
       "      <td>0</td>\n",
       "      <td>[0.3076125461010145, 0.06629737491417241, 0.03...</td>\n",
       "      <td>[0.0, 0.0, 0.0, 0.0, 0.0, 0.0, 0.0, 0.0, 0.0, ...</td>\n",
       "      <td>[-0.07883564, 0.040118113, 0.07906333, 0.04122...</td>\n",
       "    </tr>\n",
       "  </tbody>\n",
       "</table>\n",
       "<p>10000 rows × 5 columns</p>\n",
       "</div>"
      ],
      "text/plain": [
       "                                                  Image  Label  \\\n",
       "0     [85, 126, 102, 138, 156, 132, 41, 67, 40, 84, ...      1   \n",
       "1     [45, 43, 43, 50, 43, 42, 50, 46, 41, 48, 46, 4...      1   \n",
       "2     [13, 13, 46, 20, 20, 28, 44, 44, 48, 85, 87, 9...      1   \n",
       "3     [249, 245, 241, 255, 251, 248, 244, 240, 243, ...      1   \n",
       "4     [31, 38, 22, 31, 32, 20, 30, 33, 24, 29, 33, 2...      1   \n",
       "...                                                 ...    ...   \n",
       "9995  [255, 255, 255, 255, 255, 255, 255, 255, 255, ...      0   \n",
       "9996  [159, 163, 164, 169, 168, 175, 178, 156, 165, ...      0   \n",
       "9997  [168, 160, 143, 159, 148, 135, 157, 145, 136, ...      0   \n",
       "9998  [225, 216, 202, 225, 216, 202, 225, 216, 202, ...      0   \n",
       "9999  [241, 236, 228, 244, 240, 235, 249, 246, 241, ...      0   \n",
       "\n",
       "                                           hog_features  \\\n",
       "0     [0.26322898426171276, 0.06297035253461403, 0.0...   \n",
       "1     [0.35834813063792037, 0.3557791162945998, 0.05...   \n",
       "2     [0.24073522742786724, 0.3309773255937661, 0.08...   \n",
       "3     [0.2327839870331554, 0.2053042475619035, 0.232...   \n",
       "4     [0.2741637707346994, 0.03282843590448066, 0.23...   \n",
       "...                                                 ...   \n",
       "9995  [0.0, 0.0, 0.0, 0.0, 0.0, 0.0, 0.0, 0.0, 0.0, ...   \n",
       "9996  [0.1410433031960831, 0.23377168500470988, 0.26...   \n",
       "9997  [0.24411617911820588, 0.07405114817817911, 0.0...   \n",
       "9998  [0.06343854330603586, 0.03319965930645292, 0.2...   \n",
       "9999  [0.3076125461010145, 0.06629737491417241, 0.03...   \n",
       "\n",
       "                                           orb_features  \\\n",
       "0     [116.0, 167.0, 248.0, 230.0, 170.0, 105.0, 87....   \n",
       "1     [0.0, 0.0, 0.0, 0.0, 0.0, 0.0, 0.0, 0.0, 0.0, ...   \n",
       "2     [11.0, 95.0, 98.0, 154.0, 243.0, 180.0, 190.0,...   \n",
       "3     [62.0, 240.0, 104.0, 75.0, 189.0, 212.0, 219.0...   \n",
       "4     [0.0, 0.0, 0.0, 0.0, 0.0, 0.0, 0.0, 0.0, 0.0, ...   \n",
       "...                                                 ...   \n",
       "9995  [0.0, 0.0, 0.0, 0.0, 0.0, 0.0, 0.0, 0.0, 0.0, ...   \n",
       "9996  [13.0, 148.0, 77.0, 169.0, 176.0, 46.0, 106.0,...   \n",
       "9997  [0.0, 0.0, 0.0, 0.0, 0.0, 0.0, 0.0, 0.0, 0.0, ...   \n",
       "9998  [0.0, 0.0, 0.0, 0.0, 0.0, 0.0, 0.0, 0.0, 0.0, ...   \n",
       "9999  [0.0, 0.0, 0.0, 0.0, 0.0, 0.0, 0.0, 0.0, 0.0, ...   \n",
       "\n",
       "                                          kaze_features  \n",
       "0     [0.029554084, -0.016833646, 0.038285006, 0.046...  \n",
       "1     [-0.01644514873623848, -0.011588056571781635, ...  \n",
       "2     [-0.116363406, -0.058786247, 0.13851662, 0.090...  \n",
       "3     [0.0012870148, 0.0062659215, 0.004209111, 0.00...  \n",
       "4     [-0.16166079, 0.10935857, 0.20557232, 0.116168...  \n",
       "...                                                 ...  \n",
       "9995  [0.0, 0.0, 0.0, 0.0, 0.0, 0.0, 0.0, 0.0, 0.0, ...  \n",
       "9996  [-0.08075611, -0.17570443, 0.08633931, 0.18146...  \n",
       "9997  [0.0, 0.0, 0.0, 0.0, 0.0, 0.0, 0.0, 0.0, 0.0, ...  \n",
       "9998  [0.0, 0.0, 0.0, 0.0, 0.0, 0.0, 0.0, 0.0, 0.0, ...  \n",
       "9999  [-0.07883564, 0.040118113, 0.07906333, 0.04122...  \n",
       "\n",
       "[10000 rows x 5 columns]"
      ]
     },
     "execution_count": 25,
     "metadata": {},
     "output_type": "execute_result"
    }
   ],
   "source": [
    "data"
   ]
  },
  {
   "cell_type": "code",
   "execution_count": 26,
   "metadata": {},
   "outputs": [],
   "source": [
    "#Converting and saving the dataframe as a csv file\n",
    "#data.to_csv(\"Features1.csv\")"
   ]
  },
  {
   "cell_type": "code",
   "execution_count": 27,
   "metadata": {},
   "outputs": [],
   "source": [
    "#shuffle data frame before classification to prevent bias\n",
    "data = shuffle(data)"
   ]
  },
  {
   "cell_type": "code",
   "execution_count": 28,
   "metadata": {},
   "outputs": [
    {
     "data": {
      "text/html": [
       "<div>\n",
       "<style scoped>\n",
       "    .dataframe tbody tr th:only-of-type {\n",
       "        vertical-align: middle;\n",
       "    }\n",
       "\n",
       "    .dataframe tbody tr th {\n",
       "        vertical-align: top;\n",
       "    }\n",
       "\n",
       "    .dataframe thead th {\n",
       "        text-align: right;\n",
       "    }\n",
       "</style>\n",
       "<table border=\"1\" class=\"dataframe\">\n",
       "  <thead>\n",
       "    <tr style=\"text-align: right;\">\n",
       "      <th></th>\n",
       "      <th>Image</th>\n",
       "      <th>Label</th>\n",
       "      <th>hog_features</th>\n",
       "      <th>orb_features</th>\n",
       "      <th>kaze_features</th>\n",
       "    </tr>\n",
       "  </thead>\n",
       "  <tbody>\n",
       "    <tr>\n",
       "      <td>9206</td>\n",
       "      <td>[226, 178, 106, 227, 178, 107, 227, 177, 107, ...</td>\n",
       "      <td>0</td>\n",
       "      <td>[0.1771665978082208, 0.10873661638313599, 0.19...</td>\n",
       "      <td>[0.0, 0.0, 0.0, 0.0, 0.0, 0.0, 0.0, 0.0, 0.0, ...</td>\n",
       "      <td>[0.0, 0.0, 0.0, 0.0, 0.0, 0.0, 0.0, 0.0, 0.0, ...</td>\n",
       "    </tr>\n",
       "    <tr>\n",
       "      <td>4555</td>\n",
       "      <td>[99, 127, 184, 62, 68, 98, 46, 45, 56, 55, 53,...</td>\n",
       "      <td>1</td>\n",
       "      <td>[0.28389708764304095, 0.22820839236945928, 0.2...</td>\n",
       "      <td>[186.0, 82.0, 238.0, 247.0, 102.0, 18.0, 189.0...</td>\n",
       "      <td>[-0.11403386, -0.33580017, 0.11403386, 0.33580...</td>\n",
       "    </tr>\n",
       "    <tr>\n",
       "      <td>7726</td>\n",
       "      <td>[10, 12, 12, 9, 10, 12, 6, 8, 11, 8, 9, 13, 14...</td>\n",
       "      <td>0</td>\n",
       "      <td>[0.1857613649147087, 0.0835521147493242, 0.012...</td>\n",
       "      <td>[0.0, 0.0, 0.0, 0.0, 0.0, 0.0, 0.0, 0.0, 0.0, ...</td>\n",
       "      <td>[0.0, 0.0, 0.0, 0.0, 0.0, 0.0, 0.0, 0.0, 0.0, ...</td>\n",
       "    </tr>\n",
       "    <tr>\n",
       "      <td>2448</td>\n",
       "      <td>[20, 37, 45, 20, 37, 46, 20, 37, 45, 20, 38, 4...</td>\n",
       "      <td>1</td>\n",
       "      <td>[0.1109899882176166, 0.0, 0.07199579176041762,...</td>\n",
       "      <td>[9.0, 147.0, 188.0, 175.0, 48.0, 159.0, 112.0,...</td>\n",
       "      <td>[-0.0662649, 0.011761363, 0.102560766, 0.04712...</td>\n",
       "    </tr>\n",
       "    <tr>\n",
       "      <td>4399</td>\n",
       "      <td>[87, 78, 65, 96, 85, 73, 105, 91, 78, 107, 94,...</td>\n",
       "      <td>1</td>\n",
       "      <td>[0.24468060811026307, 0.04589106794627006, 0.0...</td>\n",
       "      <td>[0.0, 0.0, 0.0, 0.0, 0.0, 0.0, 0.0, 0.0, 0.0, ...</td>\n",
       "      <td>[0.07334889, -0.031139899, 0.108350836, 0.1245...</td>\n",
       "    </tr>\n",
       "    <tr>\n",
       "      <td>...</td>\n",
       "      <td>...</td>\n",
       "      <td>...</td>\n",
       "      <td>...</td>\n",
       "      <td>...</td>\n",
       "      <td>...</td>\n",
       "    </tr>\n",
       "    <tr>\n",
       "      <td>7626</td>\n",
       "      <td>[66, 75, 51, 70, 78, 57, 70, 82, 56, 67, 83, 5...</td>\n",
       "      <td>0</td>\n",
       "      <td>[0.15567028875356406, 0.11159588349931568, 0.2...</td>\n",
       "      <td>[0.0, 0.0, 0.0, 0.0, 0.0, 0.0, 0.0, 0.0, 0.0, ...</td>\n",
       "      <td>[4.742529563372955e-05, 0.01990165002644062, 0...</td>\n",
       "    </tr>\n",
       "    <tr>\n",
       "      <td>5972</td>\n",
       "      <td>[160, 145, 119, 161, 143, 118, 164, 144, 119, ...</td>\n",
       "      <td>0</td>\n",
       "      <td>[0.24465463902600854, 0.11567697485513988, 0.0...</td>\n",
       "      <td>[0.0, 0.0, 0.0, 0.0, 0.0, 0.0, 0.0, 0.0, 0.0, ...</td>\n",
       "      <td>[0.0, 0.0, 0.0, 0.0, 0.0, 0.0, 0.0, 0.0, 0.0, ...</td>\n",
       "    </tr>\n",
       "    <tr>\n",
       "      <td>5122</td>\n",
       "      <td>[19, 20, 18, 17, 17, 16, 21, 21, 21, 21, 21, 2...</td>\n",
       "      <td>0</td>\n",
       "      <td>[0.24134737707729537, 0.07661885508886163, 0.2...</td>\n",
       "      <td>[0.0, 0.0, 0.0, 0.0, 0.0, 0.0, 0.0, 0.0, 0.0, ...</td>\n",
       "      <td>[-0.0003193434386048466, 0.0018177557503804564...</td>\n",
       "    </tr>\n",
       "    <tr>\n",
       "      <td>38</td>\n",
       "      <td>[113, 163, 181, 0, 20, 45, 23, 41, 74, 35, 40,...</td>\n",
       "      <td>1</td>\n",
       "      <td>[0.3577377811975908, 0.0, 0.0, 0.0, 0.10136262...</td>\n",
       "      <td>[221.0, 76.0, 87.0, 229.0, 66.0, 78.0, 110.0, ...</td>\n",
       "      <td>[0.0046349596, -0.008789492, 0.009124, 0.01381...</td>\n",
       "    </tr>\n",
       "    <tr>\n",
       "      <td>4309</td>\n",
       "      <td>[238, 212, 194, 249, 223, 195, 248, 223, 195, ...</td>\n",
       "      <td>1</td>\n",
       "      <td>[0.16872388708385525, 0.04980790350846743, 0.0...</td>\n",
       "      <td>[0.0, 0.0, 0.0, 0.0, 0.0, 0.0, 0.0, 0.0, 0.0, ...</td>\n",
       "      <td>[-0.03363164, 0.024609355, 0.03756374, 0.03005...</td>\n",
       "    </tr>\n",
       "  </tbody>\n",
       "</table>\n",
       "<p>10000 rows × 5 columns</p>\n",
       "</div>"
      ],
      "text/plain": [
       "                                                  Image  Label  \\\n",
       "9206  [226, 178, 106, 227, 178, 107, 227, 177, 107, ...      0   \n",
       "4555  [99, 127, 184, 62, 68, 98, 46, 45, 56, 55, 53,...      1   \n",
       "7726  [10, 12, 12, 9, 10, 12, 6, 8, 11, 8, 9, 13, 14...      0   \n",
       "2448  [20, 37, 45, 20, 37, 46, 20, 37, 45, 20, 38, 4...      1   \n",
       "4399  [87, 78, 65, 96, 85, 73, 105, 91, 78, 107, 94,...      1   \n",
       "...                                                 ...    ...   \n",
       "7626  [66, 75, 51, 70, 78, 57, 70, 82, 56, 67, 83, 5...      0   \n",
       "5972  [160, 145, 119, 161, 143, 118, 164, 144, 119, ...      0   \n",
       "5122  [19, 20, 18, 17, 17, 16, 21, 21, 21, 21, 21, 2...      0   \n",
       "38    [113, 163, 181, 0, 20, 45, 23, 41, 74, 35, 40,...      1   \n",
       "4309  [238, 212, 194, 249, 223, 195, 248, 223, 195, ...      1   \n",
       "\n",
       "                                           hog_features  \\\n",
       "9206  [0.1771665978082208, 0.10873661638313599, 0.19...   \n",
       "4555  [0.28389708764304095, 0.22820839236945928, 0.2...   \n",
       "7726  [0.1857613649147087, 0.0835521147493242, 0.012...   \n",
       "2448  [0.1109899882176166, 0.0, 0.07199579176041762,...   \n",
       "4399  [0.24468060811026307, 0.04589106794627006, 0.0...   \n",
       "...                                                 ...   \n",
       "7626  [0.15567028875356406, 0.11159588349931568, 0.2...   \n",
       "5972  [0.24465463902600854, 0.11567697485513988, 0.0...   \n",
       "5122  [0.24134737707729537, 0.07661885508886163, 0.2...   \n",
       "38    [0.3577377811975908, 0.0, 0.0, 0.0, 0.10136262...   \n",
       "4309  [0.16872388708385525, 0.04980790350846743, 0.0...   \n",
       "\n",
       "                                           orb_features  \\\n",
       "9206  [0.0, 0.0, 0.0, 0.0, 0.0, 0.0, 0.0, 0.0, 0.0, ...   \n",
       "4555  [186.0, 82.0, 238.0, 247.0, 102.0, 18.0, 189.0...   \n",
       "7726  [0.0, 0.0, 0.0, 0.0, 0.0, 0.0, 0.0, 0.0, 0.0, ...   \n",
       "2448  [9.0, 147.0, 188.0, 175.0, 48.0, 159.0, 112.0,...   \n",
       "4399  [0.0, 0.0, 0.0, 0.0, 0.0, 0.0, 0.0, 0.0, 0.0, ...   \n",
       "...                                                 ...   \n",
       "7626  [0.0, 0.0, 0.0, 0.0, 0.0, 0.0, 0.0, 0.0, 0.0, ...   \n",
       "5972  [0.0, 0.0, 0.0, 0.0, 0.0, 0.0, 0.0, 0.0, 0.0, ...   \n",
       "5122  [0.0, 0.0, 0.0, 0.0, 0.0, 0.0, 0.0, 0.0, 0.0, ...   \n",
       "38    [221.0, 76.0, 87.0, 229.0, 66.0, 78.0, 110.0, ...   \n",
       "4309  [0.0, 0.0, 0.0, 0.0, 0.0, 0.0, 0.0, 0.0, 0.0, ...   \n",
       "\n",
       "                                          kaze_features  \n",
       "9206  [0.0, 0.0, 0.0, 0.0, 0.0, 0.0, 0.0, 0.0, 0.0, ...  \n",
       "4555  [-0.11403386, -0.33580017, 0.11403386, 0.33580...  \n",
       "7726  [0.0, 0.0, 0.0, 0.0, 0.0, 0.0, 0.0, 0.0, 0.0, ...  \n",
       "2448  [-0.0662649, 0.011761363, 0.102560766, 0.04712...  \n",
       "4399  [0.07334889, -0.031139899, 0.108350836, 0.1245...  \n",
       "...                                                 ...  \n",
       "7626  [4.742529563372955e-05, 0.01990165002644062, 0...  \n",
       "5972  [0.0, 0.0, 0.0, 0.0, 0.0, 0.0, 0.0, 0.0, 0.0, ...  \n",
       "5122  [-0.0003193434386048466, 0.0018177557503804564...  \n",
       "38    [0.0046349596, -0.008789492, 0.009124, 0.01381...  \n",
       "4309  [-0.03363164, 0.024609355, 0.03756374, 0.03005...  \n",
       "\n",
       "[10000 rows x 5 columns]"
      ]
     },
     "execution_count": 28,
     "metadata": {},
     "output_type": "execute_result"
    }
   ],
   "source": [
    "data"
   ]
  },
  {
   "cell_type": "code",
   "execution_count": 29,
   "metadata": {},
   "outputs": [],
   "source": [
    "# data['orb_features'][0].shape"
   ]
  },
  {
   "cell_type": "code",
   "execution_count": 30,
   "metadata": {},
   "outputs": [],
   "source": [
    "# x = np.array(data['orb_features'])\n",
    "# y = np.array(data['Label'])"
   ]
  },
  {
   "cell_type": "code",
   "execution_count": 31,
   "metadata": {},
   "outputs": [],
   "source": [
    "# x_train, x_test, y_train, y_test = train_test_split(x, y, random_state=6)"
   ]
  },
  {
   "cell_type": "code",
   "execution_count": 32,
   "metadata": {},
   "outputs": [],
   "source": [
    "# temp = []\n",
    "# for i in range(len(x_train)):\n",
    "#     for x in x_train[i]:\n",
    "#         temp.append(x)"
   ]
  },
  {
   "cell_type": "code",
   "execution_count": 33,
   "metadata": {},
   "outputs": [],
   "source": [
    "# len(temp)"
   ]
  },
  {
   "cell_type": "code",
   "execution_count": 34,
   "metadata": {},
   "outputs": [],
   "source": [
    "# x_train = np.array(temp).reshape(1500,1536)"
   ]
  },
  {
   "cell_type": "code",
   "execution_count": 35,
   "metadata": {},
   "outputs": [],
   "source": [
    "# x_train.shape"
   ]
  },
  {
   "cell_type": "code",
   "execution_count": 36,
   "metadata": {},
   "outputs": [],
   "source": [
    "# temp = []\n",
    "# for i in range(len(x_test)):\n",
    "#     for x in x_test[i]:\n",
    "#         temp.append(x)"
   ]
  },
  {
   "cell_type": "code",
   "execution_count": 37,
   "metadata": {},
   "outputs": [],
   "source": [
    "# x_test = np.array(temp).reshape(500,1536)"
   ]
  },
  {
   "cell_type": "code",
   "execution_count": 38,
   "metadata": {},
   "outputs": [],
   "source": [
    "# x_test.shape"
   ]
  },
  {
   "cell_type": "code",
   "execution_count": 39,
   "metadata": {},
   "outputs": [],
   "source": [
    "# model = KNeighborsClassifier(n_neighbors=5)\n",
    "# model.fit(x_train,y_train)\n",
    "# knn_y_predict=model.predict(x_test)\n",
    "# # accuracy score - KNN\n",
    "# knn_accuracy_score=metrics.accuracy_score(y_test, knn_y_predict)\n",
    "# # recall score - KNN\n",
    "# knn_recall_score=metrics.recall_score(y_test, knn_y_predict, average='macro')\n",
    "# print(f'KNN Accuracy:{knn_accuracy_score:0.3f}  KNN Recall: {knn_recall_score:0.3f}.\\n')"
   ]
  },
  {
   "cell_type": "code",
   "execution_count": 40,
   "metadata": {},
   "outputs": [],
   "source": [
    "# x = np.array(data['kaze_features'])\n",
    "# y = np.array(data['Label'])\n",
    "# x_train, x_test, y_train, y_test = train_test_split(x, y, random_state=6)"
   ]
  },
  {
   "cell_type": "code",
   "execution_count": 41,
   "metadata": {},
   "outputs": [],
   "source": [
    "# temp = []\n",
    "# for i in range(len(x_train)):\n",
    "#     for x in x_train[i]:\n",
    "#         temp.append(x)"
   ]
  },
  {
   "cell_type": "code",
   "execution_count": 42,
   "metadata": {},
   "outputs": [],
   "source": [
    "# x_train = np.array(temp).reshape(1500,1536)"
   ]
  },
  {
   "cell_type": "code",
   "execution_count": 43,
   "metadata": {},
   "outputs": [],
   "source": [
    "# temp = []\n",
    "# for i in range(len(x_test)):\n",
    "#     for x in x_test[i]:\n",
    "#         temp.append(x)"
   ]
  },
  {
   "cell_type": "code",
   "execution_count": 44,
   "metadata": {},
   "outputs": [],
   "source": [
    "# x_test = np.array(temp).reshape(500,1536)"
   ]
  },
  {
   "cell_type": "code",
   "execution_count": 45,
   "metadata": {},
   "outputs": [],
   "source": [
    "# model = KNeighborsClassifier(n_neighbors=5)\n",
    "# model.fit(x_train,y_train)\n",
    "# knn_y_predict=model.predict(x_test)\n",
    "# # accuracy score - KNN\n",
    "# knn_accuracy_score=metrics.accuracy_score(y_test, knn_y_predict)\n",
    "# # recall score - KNN\n",
    "# knn_recall_score=metrics.recall_score(y_test, knn_y_predict, average='macro')\n",
    "# print(f'KNN Accuracy:{knn_accuracy_score:0.3f}  KNN Recall: {knn_recall_score:0.3f}.\\n')"
   ]
  },
  {
   "cell_type": "code",
   "execution_count": 62,
   "metadata": {},
   "outputs": [
    {
     "name": "stdout",
     "output_type": "stream",
     "text": [
      "KNN Accuracy for orb_features : 0.613\n",
      "\n",
      "KNN Recall for orb_features : 0.614\n",
      "\n",
      "KNN Precision for orb_features : 0.580\n",
      "\n",
      "Confusion Matrix\n",
      "\n",
      "[[1210   31]\n",
      " [  32 1227]]\n",
      "\n",
      "\n",
      "KNN Accuracy for kaze_features : 0.698\n",
      "\n",
      "KNN Recall for kaze_features : 0.700\n",
      "\n",
      "KNN Precision for kaze_features : 0.687\n",
      "\n",
      "Confusion Matrix\n",
      "\n",
      "[[1210   31]\n",
      " [  32 1227]]\n",
      "\n",
      "\n",
      "KNN Accuracy for hog_features : 0.756\n",
      "\n",
      "KNN Recall for hog_features : 0.758\n",
      "\n",
      "KNN Precision for hog_features : 0.759\n",
      "\n",
      "Confusion Matrix\n",
      "\n",
      "[[1210   31]\n",
      " [  32 1227]]\n",
      "\n",
      "\n"
     ]
    }
   ],
   "source": [
    "#The features of each image are processed using KNN and the AUC values are stored for visualisation later\n",
    "KNN_Scores = []\n",
    "features = ['orb_features','kaze_features','hog_features']\n",
    "for feature in features:\n",
    "    x = np.array(data[feature])\n",
    "    y = np.array(data['Label'])\n",
    "    x_train, x_test, y_train, y_test = train_test_split(x, y, random_state=6)\n",
    "    x_train_len = len(x_train)\n",
    "    x_train_shape = len(x_train[0])\n",
    "    x_test_len = len(x_test)\n",
    "    x_test_shape = len(x_test[0])\n",
    "    #print(x_train_shape,x_train_len)\n",
    "    temp1 = []\n",
    "    for i in range(len(x_train)):\n",
    "        for x in x_train[i]:\n",
    "            temp1.append(x)\n",
    "    x_train = np.array(temp1).reshape(x_train_len,x_train_shape)\n",
    "    temp2 = []\n",
    "    for i in range(len(x_test)):\n",
    "        for x in x_test[i]:\n",
    "            temp2.append(x)\n",
    "    x_test = np.array(temp2).reshape(x_test_len,x_test_shape)\n",
    "    #define the classifier\n",
    "    knn = KNeighborsClassifier(n_neighbors=5)\n",
    "    #svc = SVC(kernel='rbf', gamma=0.00001, C=1000,probability=True)\n",
    "    #train the data\n",
    "    knn.fit(x_train, y_train)\n",
    "    #predict test\n",
    "    knn_predict = knn.predict(x_test)\n",
    "    #calculate accuracy and metrics\n",
    "    knn_accuracy_score = metrics.accuracy_score(y_test,knn_predict)\n",
    "    knn_recall_score=metrics.recall_score(y_test, knn_predict, average='macro')\n",
    "    confusion_matrix=metrics.confusion_matrix(y_test, svc_predict)\n",
    "    average_precision = metrics.average_precision_score(y_test, knn_predict)\n",
    "    print(f'KNN Accuracy for {feature} : {knn_accuracy_score:0.3f}\\n')\n",
    "    print(f'KNN Recall for {feature} : {knn_recall_score:0.3f}\\n')\n",
    "    print(f'KNN Precision for {feature} : {average_precision:0.3f}\\n')\n",
    "    print(f'Confusion Matrix\\n')\n",
    "    #confusion matric and AUC score calculation\n",
    "    print(confusion_matrix)\n",
    "    fp_rate, tp_rate, thresholds = roc_curve(y_test, knn_predict)\n",
    "    KNN_Scores.append((fp_rate,tp_rate,auc(fp_rate, tp_rate)))\n",
    "    print('\\n')"
   ]
  },
  {
   "cell_type": "code",
   "execution_count": 65,
   "metadata": {},
   "outputs": [
    {
     "name": "stdout",
     "output_type": "stream",
     "text": [
      "SVC Accuracy for orb_features : 0.611\n",
      "\n",
      "SVC Recall for orb_features : 0.612\n",
      "\n",
      "SVC Precision for orb_features : 0.577\n",
      "\n",
      "Confusion Matrix\n",
      "\n",
      "[[949 292]\n",
      " [681 578]]\n",
      "\n",
      "\n",
      "SVC Accuracy for kaze_features : 0.842\n",
      "\n",
      "SVC Recall for kaze_features : 0.842\n",
      "\n",
      "SVC Precision for kaze_features : 0.792\n",
      "\n",
      "Confusion Matrix\n",
      "\n",
      "[[1053  188]\n",
      " [ 207 1052]]\n",
      "\n",
      "\n",
      "SVC Accuracy for hog_features : 0.975\n",
      "\n",
      "SVC Recall for hog_features : 0.975\n",
      "\n",
      "SVC Precision for hog_features : 0.963\n",
      "\n",
      "Confusion Matrix\n",
      "\n",
      "[[1210   31]\n",
      " [  32 1227]]\n",
      "\n",
      "\n"
     ]
    }
   ],
   "source": [
    "from sklearn.svm import LinearSVC\n",
    "from sklearn.metrics import roc_curve\n",
    "from sklearn.metrics import auc\n",
    "SVC_Scores = []\n",
    "features = ['orb_features','kaze_features','hog_features']\n",
    "for feature in features:\n",
    "    x = np.array(data[feature])\n",
    "    y = np.array(data['Label'])\n",
    "    x_train, x_test, y_train, y_test = train_test_split(x, y, random_state=6)\n",
    "    x_train_len = len(x_train)\n",
    "    x_train_shape = len(x_train[0])\n",
    "    x_test_len = len(x_test)\n",
    "    x_test_shape = len(x_test[0])\n",
    "    #print(x_train_shape,x_train_len)\n",
    "    temp1 = []\n",
    "    for i in range(len(x_train)):\n",
    "        for x in x_train[i]:\n",
    "            temp1.append(x)\n",
    "    x_train = np.array(temp1).reshape(x_train_len,x_train_shape)\n",
    "    temp2 = []\n",
    "    for i in range(len(x_test)):\n",
    "        for x in x_test[i]:\n",
    "            temp2.append(x)\n",
    "    x_test = np.array(temp2).reshape(x_test_len,x_test_shape)\n",
    "    svc = LinearSVC(dual=False)\n",
    "    #svc = SVC(kernel='rbf', gamma=0.00001, C=1000,probability=True)\n",
    "    svc.fit(x_train, y_train)\n",
    "    svc_predict = svc.predict(x_test)\n",
    "    svc_accuracy_score = metrics.accuracy_score(y_test,svc_predict)\n",
    "    svc_recall_score=metrics.recall_score(y_test, svc_predict, average='macro')\n",
    "    confusion_matrix=metrics.confusion_matrix(y_test, svc_predict)\n",
    "    average_precision = metrics.average_precision_score(y_test, svc_predict)\n",
    "    #test.append(metrics.roc_auc_score(y_test, svc.predict(x_test)))\n",
    "    print(f'SVC Accuracy for {feature} : {svc_accuracy_score:0.3f}\\n')\n",
    "    print(f'SVC Recall for {feature} : {svc_recall_score:0.3f}\\n')\n",
    "    print(f'SVC Precision for {feature} : {average_precision:0.3f}\\n')\n",
    "    print(f'Confusion Matrix\\n')\n",
    "    print(confusion_matrix)\n",
    "    fp_rate, tp_rate, thresholds = roc_curve(y_test, svc_predict)\n",
    "    SVC_Scores.append((fp_rate,tp_rate,auc(fp_rate, tp_rate)))\n",
    "    print('\\n')"
   ]
  },
  {
   "cell_type": "raw",
   "metadata": {},
   "source": [
    "Plotting each feature separately and again together to comapare"
   ]
  },
  {
   "cell_type": "code",
   "execution_count": 56,
   "metadata": {},
   "outputs": [
    {
     "data": {
      "image/png": "[encoded data removed]",
      "text/plain": [
       "<Figure size 432x288 with 1 Axes>"
      ]
     },
     "metadata": {
      "needs_background": "light"
     },
     "output_type": "display_data"
    }
   ],
   "source": [
    "plt.title('ORB')\n",
    "plt.plot(SVC_Scores[0][0], SVC_Scores[0][1], label='AUC = %0.4f'% SVC_Scores[0][2])\n",
    "plt.legend(loc='lower right')\n",
    "plt.plot([0,1],[0,1],'r--')\n",
    "plt.xlim([-0.001, 1])\n",
    "plt.ylim([0, 1.001])\n",
    "plt.ylabel('True Positive Rate')\n",
    "plt.xlabel('False Positive Rate')\n",
    "plt.show()"
   ]
  },
  {
   "cell_type": "code",
   "execution_count": 57,
   "metadata": {},
   "outputs": [
    {
     "data": {
      "image/png": "[encoded data removed]",
      "text/plain": [
       "<Figure size 432x288 with 1 Axes>"
      ]
     },
     "metadata": {
      "needs_background": "light"
     },
     "output_type": "display_data"
    }
   ],
   "source": [
    "plt.title('KAZE')\n",
    "plt.plot(SVC_Scores[1][0], SVC_Scores[1][1], label='AUC = %0.4f'% SVC_Scores[1][2])\n",
    "plt.legend(loc='lower right')\n",
    "plt.plot([0,1],[0,1],'r--')\n",
    "plt.xlim([-0.001, 1])\n",
    "plt.ylim([0, 1.001])\n",
    "plt.ylabel('True Positive Rate')\n",
    "plt.xlabel('False Positive Rate')\n",
    "plt.show()"
   ]
  },
  {
   "cell_type": "code",
   "execution_count": 58,
   "metadata": {},
   "outputs": [
    {
     "data": {
      "image/png": "[encoded data removed]",
      "text/plain": [
       "<Figure size 432x288 with 1 Axes>"
      ]
     },
     "metadata": {
      "needs_background": "light"
     },
     "output_type": "display_data"
    }
   ],
   "source": [
    "plt.title('HOG')\n",
    "plt.plot(SVC_Scores[2][0], SVC_Scores[2][1], label='AUC = %0.4f'% SVC_Scores[2][2])\n",
    "plt.legend(loc='lower right')\n",
    "plt.plot([0,1],[0,1],'r--')\n",
    "plt.xlim([-0.001, 1])\n",
    "plt.ylim([0, 1.001])\n",
    "plt.ylabel('True Positive Rate')\n",
    "plt.xlabel('False Positive Rate')\n",
    "plt.show()"
   ]
  },
  {
   "cell_type": "code",
   "execution_count": 66,
   "metadata": {},
   "outputs": [
    {
     "data": {
      "image/png": "[encoded data removed]",
      "text/plain": [
       "<Figure size 432x288 with 1 Axes>"
      ]
     },
     "metadata": {
      "needs_background": "light"
     },
     "output_type": "display_data"
    }
   ],
   "source": [
    "plt.title('Comparison')\n",
    "plt.plot(KNN_Scores[0][0], KNN_Scores[0][1], label='AUC of ORB KNN = %0.4f'% KNN_Scores[0][2])\n",
    "plt.plot(KNN_Scores[1][0], KNN_Scores[1][1], label='AUC of KAZE KNN = %0.4f'% KNN_Scores[1][2])\n",
    "plt.plot(KNN_Scores[2][0], KNN_Scores[2][1], label='AUC of HOG KNN = %0.4f'% KNN_Scores[2][2])\n",
    "plt.plot(SVC_Scores[0][0], SVC_Scores[0][1], label='AUC of ORB SVM = %0.4f'% SVC_Scores[0][2])\n",
    "plt.plot(SVC_Scores[1][0], SVC_Scores[1][1], label='AUC of KAZE SVM = %0.4f'% SVC_Scores[1][2])\n",
    "plt.plot(SVC_Scores[2][0], SVC_Scores[2][1], label='AUC of HOG SVM = %0.4f'% SVC_Scores[2][2])\n",
    "plt.legend(loc='lower right')\n",
    "plt.plot([0,1],[0,1],'r--')\n",
    "plt.xlim([-0.001, 1])\n",
    "plt.ylim([0, 1.001])\n",
    "plt.ylabel('True Positive Rate')\n",
    "plt.xlabel('False Positive Rate')\n",
    "plt.show()"
   ]
  },
  {
   "cell_type": "code",
   "execution_count": null,
   "metadata": {},
   "outputs": [],
   "source": []
  }
 ],
 "metadata": {
  "kernelspec": {
   "display_name": "Python 3",
   "language": "python",
   "name": "python3"
  },
  "language_info": {
   "codemirror_mode": {
    "name": "ipython",
    "version": 3
   },
   "file_extension": ".py",
   "mimetype": "text/x-python",
   "name": "python",
   "nbconvert_exporter": "python",
   "pygments_lexer": "ipython3",
   "version": "3.7.6"
  }
 },
 "nbformat": 4,
 "nbformat_minor": 4
}
